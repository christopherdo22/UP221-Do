{
 "cells": [
  {
   "cell_type": "markdown",
   "id": "a8d4251d-979a-4297-bed9-0505e999d1c6",
   "metadata": {},
   "source": [
    "# ACS Housing Characteristics by DC Census Tract"
   ]
  },
  {
   "cell_type": "markdown",
   "id": "87c4aa90-af77-4413-b953-37f1325f5055",
   "metadata": {},
   "source": [
    "This week, I will be exploring the 2022 dataset, \"ACS_Housing_Characteristics_DC_Census_Tract\" provided by the U.S. Census Bureau from the American Community Survey. My data exploration will include:"
   ]
  },
  {
   "cell_type": "markdown",
   "id": "a6ceb836-e29c-4b32-9c6d-25eb8078e7af",
   "metadata": {},
   "source": [
    "Adding Geopandas to Notebook"
   ]
  },
  {
   "cell_type": "code",
   "execution_count": 39,
   "id": "aaa9969c-db07-49b9-bd97-2d28a1c56078",
   "metadata": {},
   "outputs": [],
   "source": [
    "import pandas as pd\n",
    "import geopandas as gpd"
   ]
  },
  {
   "cell_type": "markdown",
   "id": "2a002870-f84c-4902-8223-ad79de1f2c79",
   "metadata": {},
   "source": [
    "Downloading Housing Characteristics dataset as shapefile"
   ]
  },
  {
   "cell_type": "code",
   "execution_count": 42,
   "id": "703ade92-72b1-49eb-8ce7-88c7e18edf0c",
   "metadata": {},
   "outputs": [],
   "source": [
    "housing_character = gpd.read_file('Housing_characteristics.geojson')"
   ]
  },
  {
   "cell_type": "code",
   "execution_count": 43,
   "id": "8ec049f8-121e-47eb-b6c4-8cdce794de5f",
   "metadata": {},
   "outputs": [
    {
     "data": {
      "text/plain": [
       "geopandas.geodataframe.GeoDataFrame"
      ]
     },
     "execution_count": 43,
     "metadata": {},
     "output_type": "execute_result"
    }
   ],
   "source": [
    "type(housing_character)"
   ]
  },
  {
   "cell_type": "markdown",
   "id": "262eb503-bcaf-46a9-b341-858cdfcdf52e",
   "metadata": {},
   "source": [
    "Seeing what data looks like using .head"
   ]
  },
  {
   "cell_type": "code",
   "execution_count": 44,
   "id": "8477fba6-6bc0-498b-aff1-504a796649d3",
   "metadata": {},
   "outputs": [
    {
     "data": {
      "text/html": [
       "<div>\n",
       "<style scoped>\n",
       "    .dataframe tbody tr th:only-of-type {\n",
       "        vertical-align: middle;\n",
       "    }\n",
       "\n",
       "    .dataframe tbody tr th {\n",
       "        vertical-align: top;\n",
       "    }\n",
       "\n",
       "    .dataframe thead th {\n",
       "        text-align: right;\n",
       "    }\n",
       "</style>\n",
       "<table border=\"1\" class=\"dataframe\">\n",
       "  <thead>\n",
       "    <tr style=\"text-align: right;\">\n",
       "      <th></th>\n",
       "      <th>OBJECTID</th>\n",
       "      <th>STATEFP</th>\n",
       "      <th>COUNTYFP</th>\n",
       "      <th>TRACTCE</th>\n",
       "      <th>GEOID</th>\n",
       "      <th>NAME</th>\n",
       "      <th>NAMELSAD</th>\n",
       "      <th>MTFCC</th>\n",
       "      <th>FUNCSTAT</th>\n",
       "      <th>ALAND</th>\n",
       "      <th>...</th>\n",
       "      <th>DP04_0139E</th>\n",
       "      <th>DP04_0140E</th>\n",
       "      <th>DP04_0141E</th>\n",
       "      <th>DP04_0142E</th>\n",
       "      <th>DP04_0143E</th>\n",
       "      <th>GIS_ID</th>\n",
       "      <th>NAME_1</th>\n",
       "      <th>SHAPEAREA</th>\n",
       "      <th>SHAPELEN</th>\n",
       "      <th>geometry</th>\n",
       "    </tr>\n",
       "  </thead>\n",
       "  <tbody>\n",
       "    <tr>\n",
       "      <th>0</th>\n",
       "      <td>1</td>\n",
       "      <td>11</td>\n",
       "      <td>001</td>\n",
       "      <td>004001</td>\n",
       "      <td>11001004001</td>\n",
       "      <td>40.01</td>\n",
       "      <td>Census Tract</td>\n",
       "      <td>G5020</td>\n",
       "      <td>S</td>\n",
       "      <td>271037</td>\n",
       "      <td>...</td>\n",
       "      <td>250</td>\n",
       "      <td>187</td>\n",
       "      <td>90</td>\n",
       "      <td>168</td>\n",
       "      <td>12</td>\n",
       "      <td>ACS_Housing_DC_CensusTract_1</td>\n",
       "      <td>Census Tract 40.01, District of Columbia</td>\n",
       "      <td>0</td>\n",
       "      <td>0</td>\n",
       "      <td>POLYGON ((-77.05018 38.92125, -77.05014 38.921...</td>\n",
       "    </tr>\n",
       "    <tr>\n",
       "      <th>1</th>\n",
       "      <td>2</td>\n",
       "      <td>11</td>\n",
       "      <td>001</td>\n",
       "      <td>004002</td>\n",
       "      <td>11001004002</td>\n",
       "      <td>40.02</td>\n",
       "      <td>Census Tract</td>\n",
       "      <td>G5020</td>\n",
       "      <td>S</td>\n",
       "      <td>194755</td>\n",
       "      <td>...</td>\n",
       "      <td>175</td>\n",
       "      <td>104</td>\n",
       "      <td>132</td>\n",
       "      <td>172</td>\n",
       "      <td>27</td>\n",
       "      <td>ACS_Housing_DC_CensusTract_2</td>\n",
       "      <td>Census Tract 40.02, District of Columbia</td>\n",
       "      <td>0</td>\n",
       "      <td>0</td>\n",
       "      <td>POLYGON ((-77.04630 38.91632, -77.04630 38.916...</td>\n",
       "    </tr>\n",
       "    <tr>\n",
       "      <th>2</th>\n",
       "      <td>3</td>\n",
       "      <td>11</td>\n",
       "      <td>001</td>\n",
       "      <td>003600</td>\n",
       "      <td>11001003600</td>\n",
       "      <td>36</td>\n",
       "      <td>Census Tract</td>\n",
       "      <td>G5020</td>\n",
       "      <td>S</td>\n",
       "      <td>305616</td>\n",
       "      <td>...</td>\n",
       "      <td>101</td>\n",
       "      <td>223</td>\n",
       "      <td>143</td>\n",
       "      <td>280</td>\n",
       "      <td>55</td>\n",
       "      <td>ACS_Housing_DC_CensusTract_3</td>\n",
       "      <td>Census Tract 36, District of Columbia</td>\n",
       "      <td>0</td>\n",
       "      <td>0</td>\n",
       "      <td>POLYGON ((-77.03241 38.92658, -77.03234 38.925...</td>\n",
       "    </tr>\n",
       "    <tr>\n",
       "      <th>3</th>\n",
       "      <td>4</td>\n",
       "      <td>11</td>\n",
       "      <td>001</td>\n",
       "      <td>004201</td>\n",
       "      <td>11001004201</td>\n",
       "      <td>42.01</td>\n",
       "      <td>Census Tract</td>\n",
       "      <td>G5020</td>\n",
       "      <td>S</td>\n",
       "      <td>204529</td>\n",
       "      <td>...</td>\n",
       "      <td>294</td>\n",
       "      <td>144</td>\n",
       "      <td>69</td>\n",
       "      <td>205</td>\n",
       "      <td>0</td>\n",
       "      <td>ACS_Housing_DC_CensusTract_4</td>\n",
       "      <td>Census Tract 42.01, District of Columbia</td>\n",
       "      <td>0</td>\n",
       "      <td>0</td>\n",
       "      <td>POLYGON ((-77.04166 38.91418, -77.04166 38.914...</td>\n",
       "    </tr>\n",
       "    <tr>\n",
       "      <th>4</th>\n",
       "      <td>5</td>\n",
       "      <td>11</td>\n",
       "      <td>001</td>\n",
       "      <td>004202</td>\n",
       "      <td>11001004202</td>\n",
       "      <td>42.02</td>\n",
       "      <td>Census Tract</td>\n",
       "      <td>G5020</td>\n",
       "      <td>S</td>\n",
       "      <td>207646</td>\n",
       "      <td>...</td>\n",
       "      <td>271</td>\n",
       "      <td>115</td>\n",
       "      <td>89</td>\n",
       "      <td>303</td>\n",
       "      <td>2</td>\n",
       "      <td>ACS_Housing_DC_CensusTract_5</td>\n",
       "      <td>Census Tract 42.02, District of Columbia</td>\n",
       "      <td>0</td>\n",
       "      <td>0</td>\n",
       "      <td>POLYGON ((-77.04599 38.91451, -77.04609 38.914...</td>\n",
       "    </tr>\n",
       "  </tbody>\n",
       "</table>\n",
       "<p>5 rows × 161 columns</p>\n",
       "</div>"
      ],
      "text/plain": [
       "   OBJECTID STATEFP COUNTYFP TRACTCE        GEOID   NAME      NAMELSAD  MTFCC  \\\n",
       "0         1      11      001  004001  11001004001  40.01  Census Tract  G5020   \n",
       "1         2      11      001  004002  11001004002  40.02  Census Tract  G5020   \n",
       "2         3      11      001  003600  11001003600     36  Census Tract  G5020   \n",
       "3         4      11      001  004201  11001004201  42.01  Census Tract  G5020   \n",
       "4         5      11      001  004202  11001004202  42.02  Census Tract  G5020   \n",
       "\n",
       "  FUNCSTAT   ALAND  ...  DP04_0139E DP04_0140E DP04_0141E  DP04_0142E  \\\n",
       "0        S  271037  ...         250        187         90         168   \n",
       "1        S  194755  ...         175        104        132         172   \n",
       "2        S  305616  ...         101        223        143         280   \n",
       "3        S  204529  ...         294        144         69         205   \n",
       "4        S  207646  ...         271        115         89         303   \n",
       "\n",
       "   DP04_0143E                        GIS_ID  \\\n",
       "0          12  ACS_Housing_DC_CensusTract_1   \n",
       "1          27  ACS_Housing_DC_CensusTract_2   \n",
       "2          55  ACS_Housing_DC_CensusTract_3   \n",
       "3           0  ACS_Housing_DC_CensusTract_4   \n",
       "4           2  ACS_Housing_DC_CensusTract_5   \n",
       "\n",
       "                                     NAME_1  SHAPEAREA  SHAPELEN  \\\n",
       "0  Census Tract 40.01, District of Columbia          0         0   \n",
       "1  Census Tract 40.02, District of Columbia          0         0   \n",
       "2     Census Tract 36, District of Columbia          0         0   \n",
       "3  Census Tract 42.01, District of Columbia          0         0   \n",
       "4  Census Tract 42.02, District of Columbia          0         0   \n",
       "\n",
       "                                            geometry  \n",
       "0  POLYGON ((-77.05018 38.92125, -77.05014 38.921...  \n",
       "1  POLYGON ((-77.04630 38.91632, -77.04630 38.916...  \n",
       "2  POLYGON ((-77.03241 38.92658, -77.03234 38.925...  \n",
       "3  POLYGON ((-77.04166 38.91418, -77.04166 38.914...  \n",
       "4  POLYGON ((-77.04599 38.91451, -77.04609 38.914...  \n",
       "\n",
       "[5 rows x 161 columns]"
      ]
     },
     "execution_count": 44,
     "metadata": {},
     "output_type": "execute_result"
    }
   ],
   "source": [
    "housing_character.head()"
   ]
  },
  {
   "cell_type": "markdown",
   "id": "22167592-b4d2-4dc5-a6c9-10839500886d",
   "metadata": {},
   "source": [
    "Using the .info command, I want to see if I can figure out particular columns that will be particularly relevant among the 161 columns shown in the .head command."
   ]
  },
  {
   "cell_type": "code",
   "execution_count": 45,
   "id": "7d16f54c-352b-4711-9e25-60552c6995b6",
   "metadata": {},
   "outputs": [
    {
     "name": "stdout",
     "output_type": "stream",
     "text": [
      "<class 'geopandas.geodataframe.GeoDataFrame'>\n",
      "RangeIndex: 206 entries, 0 to 205\n",
      "Columns: 161 entries, OBJECTID to geometry\n",
      "dtypes: float64(9), geometry(1), int64(139), object(12)\n",
      "memory usage: 259.2+ KB\n"
     ]
    }
   ],
   "source": [
    "housing_character.info()"
   ]
  },
  {
   "cell_type": "markdown",
   "id": "24605653-ca3e-4c94-af70-38e45debd46d",
   "metadata": {},
   "source": [
    "Next, I want to use the .shape to confirm the size of the dataset."
   ]
  },
  {
   "cell_type": "code",
   "execution_count": 51,
   "id": "fb328a02-75a7-4625-a1d3-2bfd717ab22e",
   "metadata": {},
   "outputs": [
    {
     "data": {
      "text/plain": [
       "(206, 161)"
      ]
     },
     "execution_count": 51,
     "metadata": {},
     "output_type": "execute_result"
    }
   ],
   "source": [
    "housing_character.shape"
   ]
  },
  {
   "cell_type": "markdown",
   "id": "101f053b-d969-41e1-9135-222591bbe5d8",
   "metadata": {},
   "source": [
    "Seeing as this is a very large data table, I will try to focus on one particular column and create a variable for it."
   ]
  },
  {
   "cell_type": "code",
   "execution_count": 53,
   "id": "9a62c490-200c-4cc4-ba41-6f82feed30fd",
   "metadata": {},
   "outputs": [
    {
     "data": {
      "text/plain": [
       "['OBJECTID',\n",
       " 'STATEFP',\n",
       " 'COUNTYFP',\n",
       " 'TRACTCE',\n",
       " 'GEOID',\n",
       " 'NAME',\n",
       " 'NAMELSAD',\n",
       " 'MTFCC',\n",
       " 'FUNCSTAT',\n",
       " 'ALAND',\n",
       " 'AWATER',\n",
       " 'INTPTLAT',\n",
       " 'INTPTLON',\n",
       " 'DP04_0001E',\n",
       " 'DP04_0002E',\n",
       " 'DP04_0003E',\n",
       " 'DP04_0004E',\n",
       " 'DP04_0005E',\n",
       " 'DP04_0006E',\n",
       " 'DP04_0007E',\n",
       " 'DP04_0008E',\n",
       " 'DP04_0009E',\n",
       " 'DP04_0010E',\n",
       " 'DP04_0011E',\n",
       " 'DP04_0012E',\n",
       " 'DP04_0013E',\n",
       " 'DP04_0014E',\n",
       " 'DP04_0015E',\n",
       " 'DP04_0016E',\n",
       " 'DP04_0017E',\n",
       " 'DP04_0018E',\n",
       " 'DP04_0019E',\n",
       " 'DP04_0020E',\n",
       " 'DP04_0021E',\n",
       " 'DP04_0022E',\n",
       " 'DP04_0023E',\n",
       " 'DP04_0024E',\n",
       " 'DP04_0025E',\n",
       " 'DP04_0026E',\n",
       " 'DP04_0027E',\n",
       " 'DP04_0028E',\n",
       " 'DP04_0029E',\n",
       " 'DP04_0030E',\n",
       " 'DP04_0031E',\n",
       " 'DP04_0032E',\n",
       " 'DP04_0033E',\n",
       " 'DP04_0034E',\n",
       " 'DP04_0035E',\n",
       " 'DP04_0036E',\n",
       " 'DP04_0037E',\n",
       " 'DP04_0038E',\n",
       " 'DP04_0039E',\n",
       " 'DP04_0040E',\n",
       " 'DP04_0041E',\n",
       " 'DP04_0042E',\n",
       " 'DP04_0043E',\n",
       " 'DP04_0044E',\n",
       " 'DP04_0045E',\n",
       " 'DP04_0046E',\n",
       " 'DP04_0047E',\n",
       " 'DP04_0048E',\n",
       " 'DP04_0049E',\n",
       " 'DP04_0050E',\n",
       " 'DP04_0051E',\n",
       " 'DP04_0052E',\n",
       " 'DP04_0053E',\n",
       " 'DP04_0054E',\n",
       " 'DP04_0055E',\n",
       " 'DP04_0056E',\n",
       " 'DP04_0057E',\n",
       " 'DP04_0058E',\n",
       " 'DP04_0059E',\n",
       " 'DP04_0060E',\n",
       " 'DP04_0061E',\n",
       " 'DP04_0062E',\n",
       " 'DP04_0063E',\n",
       " 'DP04_0064E',\n",
       " 'DP04_0065E',\n",
       " 'DP04_0066E',\n",
       " 'DP04_0067E',\n",
       " 'DP04_0068E',\n",
       " 'DP04_0069E',\n",
       " 'DP04_0070E',\n",
       " 'DP04_0071E',\n",
       " 'DP04_0072E',\n",
       " 'DP04_0073E',\n",
       " 'DP04_0074E',\n",
       " 'DP04_0075E',\n",
       " 'DP04_0076E',\n",
       " 'DP04_0077E',\n",
       " 'DP04_0078E',\n",
       " 'DP04_0079E',\n",
       " 'DP04_0080E',\n",
       " 'DP04_0081E',\n",
       " 'DP04_0082E',\n",
       " 'DP04_0083E',\n",
       " 'DP04_0084E',\n",
       " 'DP04_0085E',\n",
       " 'DP04_0086E',\n",
       " 'DP04_0087E',\n",
       " 'DP04_0088E',\n",
       " 'DP04_0089E',\n",
       " 'DP04_0090E',\n",
       " 'DP04_0091E',\n",
       " 'DP04_0092E',\n",
       " 'DP04_0093E',\n",
       " 'DP04_0094E',\n",
       " 'DP04_0095E',\n",
       " 'DP04_0096E',\n",
       " 'DP04_0097E',\n",
       " 'DP04_0098E',\n",
       " 'DP04_0099E',\n",
       " 'DP04_0100E',\n",
       " 'DP04_0101E',\n",
       " 'DP04_0102E',\n",
       " 'DP04_0103E',\n",
       " 'DP04_0104E',\n",
       " 'DP04_0105E',\n",
       " 'DP04_0106E',\n",
       " 'DP04_0107E',\n",
       " 'DP04_0108E',\n",
       " 'DP04_0109E',\n",
       " 'DP04_0110E',\n",
       " 'DP04_0111E',\n",
       " 'DP04_0112E',\n",
       " 'DP04_0113E',\n",
       " 'DP04_0114E',\n",
       " 'DP04_0115E',\n",
       " 'DP04_0116E',\n",
       " 'DP04_0117E',\n",
       " 'DP04_0118E',\n",
       " 'DP04_0119E',\n",
       " 'DP04_0120E',\n",
       " 'DP04_0121E',\n",
       " 'DP04_0122E',\n",
       " 'DP04_0123E',\n",
       " 'DP04_0124E',\n",
       " 'DP04_0125E',\n",
       " 'DP04_0126E',\n",
       " 'DP04_0127E',\n",
       " 'DP04_0128E',\n",
       " 'DP04_0129E',\n",
       " 'DP04_0130E',\n",
       " 'DP04_0131E',\n",
       " 'DP04_0132E',\n",
       " 'DP04_0133E',\n",
       " 'DP04_0134E',\n",
       " 'DP04_0135E',\n",
       " 'DP04_0136E',\n",
       " 'DP04_0137E',\n",
       " 'DP04_0138E',\n",
       " 'DP04_0139E',\n",
       " 'DP04_0140E',\n",
       " 'DP04_0141E',\n",
       " 'DP04_0142E',\n",
       " 'DP04_0143E',\n",
       " 'GIS_ID',\n",
       " 'NAME_1',\n",
       " 'SHAPEAREA',\n",
       " 'SHAPELEN',\n",
       " 'geometry']"
      ]
     },
     "execution_count": 53,
     "metadata": {},
     "output_type": "execute_result"
    }
   ],
   "source": [
    "housing_character.columns.to_list()"
   ]
  },
  {
   "cell_type": "markdown",
   "id": "97b5e75a-b37d-4f0d-a015-94c83c85d4b2",
   "metadata": {},
   "source": [
    "Since the column names are not helpful, I looked at the original data as a CSV and selected DP04_0089E (median home value of owner-occupied units) to work with."
   ]
  },
  {
   "cell_type": "code",
   "execution_count": 54,
   "id": "d2b80a61-7b1a-4557-b9c5-c078c8e70905",
   "metadata": {},
   "outputs": [
    {
     "data": {
      "text/plain": [
       "64     594900.0\n",
       "147    450500.0\n",
       "47     502000.0\n",
       "33     699700.0\n",
       "205    374700.0\n",
       "Name: DP04_0089E, dtype: float64"
      ]
     },
     "execution_count": 54,
     "metadata": {},
     "output_type": "execute_result"
    }
   ],
   "source": [
    "housing_character['DP04_0089E'].sample(5)"
   ]
  },
  {
   "cell_type": "markdown",
   "id": "f3a59426-58ca-4f93-a145-883cc02a50f4",
   "metadata": {},
   "source": [
    "Now to see the distribution of values:"
   ]
  },
  {
   "cell_type": "code",
   "execution_count": 55,
   "id": "59714baf-6f42-476e-86ca-cbcc999fb0a5",
   "metadata": {},
   "outputs": [
    {
     "data": {
      "text/plain": [
       "638100.0    2\n",
       "473400.0    2\n",
       "336600.0    2\n",
       "680800.0    1\n",
       "352100.0    1\n",
       "           ..\n",
       "672600.0    1\n",
       "569300.0    1\n",
       "668800.0    1\n",
       "465200.0    1\n",
       "374700.0    1\n",
       "Name: DP04_0089E, Length: 192, dtype: int64"
      ]
     },
     "execution_count": 55,
     "metadata": {},
     "output_type": "execute_result"
    }
   ],
   "source": [
    "housing_character['DP04_0089E'].value_counts()"
   ]
  },
  {
   "cell_type": "markdown",
   "id": "910067b7-5ca6-4520-98cb-28428e47eb5c",
   "metadata": {},
   "source": [
    "I would have to group together values into certain ranges (ex. 400,000 to 450,000) in order to make sense of this data. Since I don't know how do to that yet, I will plot the data instead."
   ]
  },
  {
   "cell_type": "code",
   "execution_count": 56,
   "id": "9cc5fd94-65aa-45a0-845f-8d43a111a3f1",
   "metadata": {},
   "outputs": [
    {
     "data": {
      "text/plain": [
       "<pandas.plotting._core.PlotAccessor object at 0x7f5b8fef2200>"
      ]
     },
     "execution_count": 56,
     "metadata": {},
     "output_type": "execute_result"
    }
   ],
   "source": [
    "housing_character['DP04_0089E'].plot"
   ]
  },
  {
   "cell_type": "markdown",
   "id": "b415350b-ec33-418d-b6da-6137c2ec879e",
   "metadata": {},
   "source": [
    "Trying to convert this column into a data table"
   ]
  },
  {
   "cell_type": "code",
   "execution_count": 57,
   "id": "9a92bab9-7acc-47da-98d8-d818fc5efc1b",
   "metadata": {},
   "outputs": [],
   "source": [
    "price_count = housing_character['DP04_0089E'].value_counts()"
   ]
  },
  {
   "cell_type": "code",
   "execution_count": 58,
   "id": "ec71e20a-e50f-443c-8502-c31c75bad5e0",
   "metadata": {},
   "outputs": [
    {
     "ename": "AttributeError",
     "evalue": "'Series' object has no attribute 'columns'",
     "output_type": "error",
     "traceback": [
      "\u001b[0;31m---------------------------------------------------------------------------\u001b[0m",
      "\u001b[0;31mAttributeError\u001b[0m                            Traceback (most recent call last)",
      "Cell \u001b[0;32mIn[58], line 1\u001b[0m\n\u001b[0;32m----> 1\u001b[0m \u001b[43mprice_count\u001b[49m\u001b[38;5;241;43m.\u001b[39;49m\u001b[43mcolumns\u001b[49m\u001b[38;5;241m.\u001b[39mto_list()\n",
      "File \u001b[0;32m/opt/conda/lib/python3.10/site-packages/pandas/core/generic.py:5902\u001b[0m, in \u001b[0;36mNDFrame.__getattr__\u001b[0;34m(self, name)\u001b[0m\n\u001b[1;32m   5895\u001b[0m \u001b[38;5;28;01mif\u001b[39;00m (\n\u001b[1;32m   5896\u001b[0m     name \u001b[38;5;129;01mnot\u001b[39;00m \u001b[38;5;129;01min\u001b[39;00m \u001b[38;5;28mself\u001b[39m\u001b[38;5;241m.\u001b[39m_internal_names_set\n\u001b[1;32m   5897\u001b[0m     \u001b[38;5;129;01mand\u001b[39;00m name \u001b[38;5;129;01mnot\u001b[39;00m \u001b[38;5;129;01min\u001b[39;00m \u001b[38;5;28mself\u001b[39m\u001b[38;5;241m.\u001b[39m_metadata\n\u001b[1;32m   5898\u001b[0m     \u001b[38;5;129;01mand\u001b[39;00m name \u001b[38;5;129;01mnot\u001b[39;00m \u001b[38;5;129;01min\u001b[39;00m \u001b[38;5;28mself\u001b[39m\u001b[38;5;241m.\u001b[39m_accessors\n\u001b[1;32m   5899\u001b[0m     \u001b[38;5;129;01mand\u001b[39;00m \u001b[38;5;28mself\u001b[39m\u001b[38;5;241m.\u001b[39m_info_axis\u001b[38;5;241m.\u001b[39m_can_hold_identifiers_and_holds_name(name)\n\u001b[1;32m   5900\u001b[0m ):\n\u001b[1;32m   5901\u001b[0m     \u001b[38;5;28;01mreturn\u001b[39;00m \u001b[38;5;28mself\u001b[39m[name]\n\u001b[0;32m-> 5902\u001b[0m \u001b[38;5;28;01mreturn\u001b[39;00m \u001b[38;5;28;43mobject\u001b[39;49m\u001b[38;5;241;43m.\u001b[39;49m\u001b[38;5;21;43m__getattribute__\u001b[39;49m\u001b[43m(\u001b[49m\u001b[38;5;28;43mself\u001b[39;49m\u001b[43m,\u001b[49m\u001b[43m \u001b[49m\u001b[43mname\u001b[49m\u001b[43m)\u001b[49m\n",
      "\u001b[0;31mAttributeError\u001b[0m: 'Series' object has no attribute 'columns'"
     ]
    }
   ],
   "source": [
    "price_count.columns.to_list()"
   ]
  },
  {
   "cell_type": "code",
   "execution_count": 59,
   "id": "a08f3ed9-0107-4080-89cc-fa4ec184bebc",
   "metadata": {},
   "outputs": [
    {
     "data": {
      "text/plain": [
       "<pandas.plotting._core.PlotAccessor object at 0x7f5b8fa26350>"
      ]
     },
     "execution_count": 59,
     "metadata": {},
     "output_type": "execute_result"
    }
   ],
   "source": [
    "price_count.plot"
   ]
  },
  {
   "cell_type": "code",
   "execution_count": 61,
   "id": "31485b8a-fff6-47cb-bfa0-e367f2abe2f9",
   "metadata": {},
   "outputs": [
    {
     "data": {
      "text/plain": [
       "pandas.core.series.Series"
      ]
     },
     "execution_count": 61,
     "metadata": {},
     "output_type": "execute_result"
    }
   ],
   "source": [
    "type(price_count)"
   ]
  },
  {
   "cell_type": "code",
   "execution_count": 62,
   "id": "b4c0a241-0c5a-4184-963e-44070ebad905",
   "metadata": {},
   "outputs": [
    {
     "data": {
      "text/html": [
       "<div>\n",
       "<style scoped>\n",
       "    .dataframe tbody tr th:only-of-type {\n",
       "        vertical-align: middle;\n",
       "    }\n",
       "\n",
       "    .dataframe tbody tr th {\n",
       "        vertical-align: top;\n",
       "    }\n",
       "\n",
       "    .dataframe thead th {\n",
       "        text-align: right;\n",
       "    }\n",
       "</style>\n",
       "<table border=\"1\" class=\"dataframe\">\n",
       "  <thead>\n",
       "    <tr style=\"text-align: right;\">\n",
       "      <th></th>\n",
       "      <th>index</th>\n",
       "      <th>DP04_0089E</th>\n",
       "    </tr>\n",
       "  </thead>\n",
       "  <tbody>\n",
       "    <tr>\n",
       "      <th>0</th>\n",
       "      <td>638100.0</td>\n",
       "      <td>2</td>\n",
       "    </tr>\n",
       "    <tr>\n",
       "      <th>1</th>\n",
       "      <td>473400.0</td>\n",
       "      <td>2</td>\n",
       "    </tr>\n",
       "    <tr>\n",
       "      <th>2</th>\n",
       "      <td>336600.0</td>\n",
       "      <td>2</td>\n",
       "    </tr>\n",
       "    <tr>\n",
       "      <th>3</th>\n",
       "      <td>680800.0</td>\n",
       "      <td>1</td>\n",
       "    </tr>\n",
       "    <tr>\n",
       "      <th>4</th>\n",
       "      <td>352100.0</td>\n",
       "      <td>1</td>\n",
       "    </tr>\n",
       "    <tr>\n",
       "      <th>...</th>\n",
       "      <td>...</td>\n",
       "      <td>...</td>\n",
       "    </tr>\n",
       "    <tr>\n",
       "      <th>187</th>\n",
       "      <td>672600.0</td>\n",
       "      <td>1</td>\n",
       "    </tr>\n",
       "    <tr>\n",
       "      <th>188</th>\n",
       "      <td>569300.0</td>\n",
       "      <td>1</td>\n",
       "    </tr>\n",
       "    <tr>\n",
       "      <th>189</th>\n",
       "      <td>668800.0</td>\n",
       "      <td>1</td>\n",
       "    </tr>\n",
       "    <tr>\n",
       "      <th>190</th>\n",
       "      <td>465200.0</td>\n",
       "      <td>1</td>\n",
       "    </tr>\n",
       "    <tr>\n",
       "      <th>191</th>\n",
       "      <td>374700.0</td>\n",
       "      <td>1</td>\n",
       "    </tr>\n",
       "  </tbody>\n",
       "</table>\n",
       "<p>192 rows × 2 columns</p>\n",
       "</div>"
      ],
      "text/plain": [
       "        index  DP04_0089E\n",
       "0    638100.0           2\n",
       "1    473400.0           2\n",
       "2    336600.0           2\n",
       "3    680800.0           1\n",
       "4    352100.0           1\n",
       "..        ...         ...\n",
       "187  672600.0           1\n",
       "188  569300.0           1\n",
       "189  668800.0           1\n",
       "190  465200.0           1\n",
       "191  374700.0           1\n",
       "\n",
       "[192 rows x 2 columns]"
      ]
     },
     "execution_count": 62,
     "metadata": {},
     "output_type": "execute_result"
    }
   ],
   "source": [
    "price_count.reset_index()"
   ]
  },
  {
   "cell_type": "code",
   "execution_count": 63,
   "id": "e31aa935-2269-45a2-b126-2aeb1bd873f4",
   "metadata": {},
   "outputs": [],
   "source": [
    "price_count.columns = ['price', 'count']"
   ]
  },
  {
   "cell_type": "code",
   "execution_count": 64,
   "id": "c2bb2172-4cff-46ea-9c67-91a47c7636f4",
   "metadata": {},
   "outputs": [
    {
     "data": {
      "text/plain": [
       "638100.0    2\n",
       "473400.0    2\n",
       "336600.0    2\n",
       "680800.0    1\n",
       "352100.0    1\n",
       "           ..\n",
       "672600.0    1\n",
       "569300.0    1\n",
       "668800.0    1\n",
       "465200.0    1\n",
       "374700.0    1\n",
       "Name: DP04_0089E, Length: 192, dtype: int64"
      ]
     },
     "execution_count": 64,
     "metadata": {},
     "output_type": "execute_result"
    }
   ],
   "source": [
    "price_count"
   ]
  },
  {
   "cell_type": "code",
   "execution_count": 66,
   "id": "d93e571b-347c-41cc-bae9-fde2f85eacb6",
   "metadata": {},
   "outputs": [
    {
     "data": {
      "text/plain": [
       "<AxesSubplot: >"
      ]
     },
     "execution_count": 66,
     "metadata": {},
     "output_type": "execute_result"
    },
    {
     "data": {
      "image/png": "[encoded data removed]",
      "text/plain": [
       "<Figure size 640x480 with 1 Axes>"
      ]
     },
     "metadata": {},
     "output_type": "display_data"
    }
   ],
   "source": [
    "price_count.plot()"
   ]
  },
  {
   "cell_type": "markdown",
   "id": "a4a23c4f-ac53-47c1-94b1-5c7362a75928",
   "metadata": {},
   "source": [
    "Well, I tried to make the .plot work. Now to trim the data and choose the desired columns"
   ]
  },
  {
   "cell_type": "code",
   "execution_count": 68,
   "id": "b04aff0d-9660-4fae-a7de-1898b660c7e1",
   "metadata": {},
   "outputs": [
    {
     "data": {
      "text/html": [
       "<div>\n",
       "<style scoped>\n",
       "    .dataframe tbody tr th:only-of-type {\n",
       "        vertical-align: middle;\n",
       "    }\n",
       "\n",
       "    .dataframe tbody tr th {\n",
       "        vertical-align: top;\n",
       "    }\n",
       "\n",
       "    .dataframe thead th {\n",
       "        text-align: right;\n",
       "    }\n",
       "</style>\n",
       "<table border=\"1\" class=\"dataframe\">\n",
       "  <thead>\n",
       "    <tr style=\"text-align: right;\">\n",
       "      <th></th>\n",
       "      <th>GEOID</th>\n",
       "      <th>INTPTLAT</th>\n",
       "      <th>INTPTLON</th>\n",
       "      <th>DP04_0089E</th>\n",
       "    </tr>\n",
       "  </thead>\n",
       "  <tbody>\n",
       "    <tr>\n",
       "      <th>0</th>\n",
       "      <td>11001004001</td>\n",
       "      <td>+38.9208738</td>\n",
       "      <td>-077.0462674</td>\n",
       "      <td>680800.0</td>\n",
       "    </tr>\n",
       "    <tr>\n",
       "      <th>1</th>\n",
       "      <td>11001004002</td>\n",
       "      <td>+38.9181186</td>\n",
       "      <td>-077.0437209</td>\n",
       "      <td>654800.0</td>\n",
       "    </tr>\n",
       "    <tr>\n",
       "      <th>2</th>\n",
       "      <td>11001003600</td>\n",
       "      <td>+38.9236744</td>\n",
       "      <td>-077.0296273</td>\n",
       "      <td>741200.0</td>\n",
       "    </tr>\n",
       "    <tr>\n",
       "      <th>3</th>\n",
       "      <td>11001004201</td>\n",
       "      <td>+38.9162076</td>\n",
       "      <td>-077.0388456</td>\n",
       "      <td>826600.0</td>\n",
       "    </tr>\n",
       "    <tr>\n",
       "      <th>4</th>\n",
       "      <td>11001004202</td>\n",
       "      <td>+38.9134023</td>\n",
       "      <td>-077.0430254</td>\n",
       "      <td>644400.0</td>\n",
       "    </tr>\n",
       "    <tr>\n",
       "      <th>...</th>\n",
       "      <td>...</td>\n",
       "      <td>...</td>\n",
       "      <td>...</td>\n",
       "      <td>...</td>\n",
       "    </tr>\n",
       "    <tr>\n",
       "      <th>201</th>\n",
       "      <td>11001009509</td>\n",
       "      <td>+38.9492140</td>\n",
       "      <td>-076.9950319</td>\n",
       "      <td>462400.0</td>\n",
       "    </tr>\n",
       "    <tr>\n",
       "      <th>202</th>\n",
       "      <td>11001009700</td>\n",
       "      <td>+38.8354183</td>\n",
       "      <td>-076.9870248</td>\n",
       "      <td>409400.0</td>\n",
       "    </tr>\n",
       "    <tr>\n",
       "      <th>203</th>\n",
       "      <td>11001009801</td>\n",
       "      <td>+38.8328939</td>\n",
       "      <td>-076.9963306</td>\n",
       "      <td>269800.0</td>\n",
       "    </tr>\n",
       "    <tr>\n",
       "      <th>204</th>\n",
       "      <td>11001002801</td>\n",
       "      <td>+38.9349477</td>\n",
       "      <td>-077.0345166</td>\n",
       "      <td>751700.0</td>\n",
       "    </tr>\n",
       "    <tr>\n",
       "      <th>205</th>\n",
       "      <td>11001002802</td>\n",
       "      <td>+38.9294344</td>\n",
       "      <td>-077.0346327</td>\n",
       "      <td>374700.0</td>\n",
       "    </tr>\n",
       "  </tbody>\n",
       "</table>\n",
       "<p>206 rows × 4 columns</p>\n",
       "</div>"
      ],
      "text/plain": [
       "           GEOID     INTPTLAT      INTPTLON  DP04_0089E\n",
       "0    11001004001  +38.9208738  -077.0462674    680800.0\n",
       "1    11001004002  +38.9181186  -077.0437209    654800.0\n",
       "2    11001003600  +38.9236744  -077.0296273    741200.0\n",
       "3    11001004201  +38.9162076  -077.0388456    826600.0\n",
       "4    11001004202  +38.9134023  -077.0430254    644400.0\n",
       "..           ...          ...           ...         ...\n",
       "201  11001009509  +38.9492140  -076.9950319    462400.0\n",
       "202  11001009700  +38.8354183  -076.9870248    409400.0\n",
       "203  11001009801  +38.8328939  -076.9963306    269800.0\n",
       "204  11001002801  +38.9349477  -077.0345166    751700.0\n",
       "205  11001002802  +38.9294344  -077.0346327    374700.0\n",
       "\n",
       "[206 rows x 4 columns]"
      ]
     },
     "execution_count": 68,
     "metadata": {},
     "output_type": "execute_result"
    }
   ],
   "source": [
    "housing_character[['GEOID', 'INTPTLAT', 'INTPTLON','DP04_0089E']]"
   ]
  },
  {
   "cell_type": "code",
   "execution_count": 69,
   "id": "399b6914-2b7c-4a87-82bf-565aaf2ee882",
   "metadata": {},
   "outputs": [],
   "source": [
    "desired_columns = [['GEOID', 'INTPTLAT', 'INTPTLON','DP04_0089E']]"
   ]
  },
  {
   "cell_type": "code",
   "execution_count": 73,
   "id": "a4e28548-2cb3-4296-9cfd-9e9a8ac86e3d",
   "metadata": {},
   "outputs": [],
   "source": [
    "values_trimmed = housing_character[['GEOID', 'INTPTLAT', 'INTPTLON','DP04_0089E']].copy()"
   ]
  },
  {
   "cell_type": "code",
   "execution_count": 74,
   "id": "9f570740-fe10-446e-8c21-164c92960e21",
   "metadata": {},
   "outputs": [
    {
     "data": {
      "text/html": [
       "<div>\n",
       "<style scoped>\n",
       "    .dataframe tbody tr th:only-of-type {\n",
       "        vertical-align: middle;\n",
       "    }\n",
       "\n",
       "    .dataframe tbody tr th {\n",
       "        vertical-align: top;\n",
       "    }\n",
       "\n",
       "    .dataframe thead th {\n",
       "        text-align: right;\n",
       "    }\n",
       "</style>\n",
       "<table border=\"1\" class=\"dataframe\">\n",
       "  <thead>\n",
       "    <tr style=\"text-align: right;\">\n",
       "      <th></th>\n",
       "      <th>GEOID</th>\n",
       "      <th>INTPTLAT</th>\n",
       "      <th>INTPTLON</th>\n",
       "      <th>DP04_0089E</th>\n",
       "    </tr>\n",
       "  </thead>\n",
       "  <tbody>\n",
       "    <tr>\n",
       "      <th>0</th>\n",
       "      <td>11001004001</td>\n",
       "      <td>+38.9208738</td>\n",
       "      <td>-077.0462674</td>\n",
       "      <td>680800.0</td>\n",
       "    </tr>\n",
       "    <tr>\n",
       "      <th>1</th>\n",
       "      <td>11001004002</td>\n",
       "      <td>+38.9181186</td>\n",
       "      <td>-077.0437209</td>\n",
       "      <td>654800.0</td>\n",
       "    </tr>\n",
       "    <tr>\n",
       "      <th>2</th>\n",
       "      <td>11001003600</td>\n",
       "      <td>+38.9236744</td>\n",
       "      <td>-077.0296273</td>\n",
       "      <td>741200.0</td>\n",
       "    </tr>\n",
       "    <tr>\n",
       "      <th>3</th>\n",
       "      <td>11001004201</td>\n",
       "      <td>+38.9162076</td>\n",
       "      <td>-077.0388456</td>\n",
       "      <td>826600.0</td>\n",
       "    </tr>\n",
       "    <tr>\n",
       "      <th>4</th>\n",
       "      <td>11001004202</td>\n",
       "      <td>+38.9134023</td>\n",
       "      <td>-077.0430254</td>\n",
       "      <td>644400.0</td>\n",
       "    </tr>\n",
       "    <tr>\n",
       "      <th>...</th>\n",
       "      <td>...</td>\n",
       "      <td>...</td>\n",
       "      <td>...</td>\n",
       "      <td>...</td>\n",
       "    </tr>\n",
       "    <tr>\n",
       "      <th>201</th>\n",
       "      <td>11001009509</td>\n",
       "      <td>+38.9492140</td>\n",
       "      <td>-076.9950319</td>\n",
       "      <td>462400.0</td>\n",
       "    </tr>\n",
       "    <tr>\n",
       "      <th>202</th>\n",
       "      <td>11001009700</td>\n",
       "      <td>+38.8354183</td>\n",
       "      <td>-076.9870248</td>\n",
       "      <td>409400.0</td>\n",
       "    </tr>\n",
       "    <tr>\n",
       "      <th>203</th>\n",
       "      <td>11001009801</td>\n",
       "      <td>+38.8328939</td>\n",
       "      <td>-076.9963306</td>\n",
       "      <td>269800.0</td>\n",
       "    </tr>\n",
       "    <tr>\n",
       "      <th>204</th>\n",
       "      <td>11001002801</td>\n",
       "      <td>+38.9349477</td>\n",
       "      <td>-077.0345166</td>\n",
       "      <td>751700.0</td>\n",
       "    </tr>\n",
       "    <tr>\n",
       "      <th>205</th>\n",
       "      <td>11001002802</td>\n",
       "      <td>+38.9294344</td>\n",
       "      <td>-077.0346327</td>\n",
       "      <td>374700.0</td>\n",
       "    </tr>\n",
       "  </tbody>\n",
       "</table>\n",
       "<p>206 rows × 4 columns</p>\n",
       "</div>"
      ],
      "text/plain": [
       "           GEOID     INTPTLAT      INTPTLON  DP04_0089E\n",
       "0    11001004001  +38.9208738  -077.0462674    680800.0\n",
       "1    11001004002  +38.9181186  -077.0437209    654800.0\n",
       "2    11001003600  +38.9236744  -077.0296273    741200.0\n",
       "3    11001004201  +38.9162076  -077.0388456    826600.0\n",
       "4    11001004202  +38.9134023  -077.0430254    644400.0\n",
       "..           ...          ...           ...         ...\n",
       "201  11001009509  +38.9492140  -076.9950319    462400.0\n",
       "202  11001009700  +38.8354183  -076.9870248    409400.0\n",
       "203  11001009801  +38.8328939  -076.9963306    269800.0\n",
       "204  11001002801  +38.9349477  -077.0345166    751700.0\n",
       "205  11001002802  +38.9294344  -077.0346327    374700.0\n",
       "\n",
       "[206 rows x 4 columns]"
      ]
     },
     "execution_count": 74,
     "metadata": {},
     "output_type": "execute_result"
    }
   ],
   "source": [
    "values_trimmed"
   ]
  },
  {
   "cell_type": "markdown",
   "id": "78af661c-3045-4b0b-9003-2458443af341",
   "metadata": {},
   "source": [
    "Querying certain values: \"741200.0\" as an example"
   ]
  },
  {
   "cell_type": "code",
   "execution_count": 77,
   "id": "d16e0a0e-21ca-47ad-90d5-b2481b0570d0",
   "metadata": {},
   "outputs": [
    {
     "data": {
      "text/html": [
       "<div>\n",
       "<style scoped>\n",
       "    .dataframe tbody tr th:only-of-type {\n",
       "        vertical-align: middle;\n",
       "    }\n",
       "\n",
       "    .dataframe tbody tr th {\n",
       "        vertical-align: top;\n",
       "    }\n",
       "\n",
       "    .dataframe thead th {\n",
       "        text-align: right;\n",
       "    }\n",
       "</style>\n",
       "<table border=\"1\" class=\"dataframe\">\n",
       "  <thead>\n",
       "    <tr style=\"text-align: right;\">\n",
       "      <th></th>\n",
       "      <th>GEOID</th>\n",
       "      <th>INTPTLAT</th>\n",
       "      <th>INTPTLON</th>\n",
       "      <th>DP04_0089E</th>\n",
       "    </tr>\n",
       "  </thead>\n",
       "  <tbody>\n",
       "  </tbody>\n",
       "</table>\n",
       "</div>"
      ],
      "text/plain": [
       "Empty DataFrame\n",
       "Columns: [GEOID, INTPTLAT, INTPTLON, DP04_0089E]\n",
       "Index: []"
      ]
     },
     "execution_count": 77,
     "metadata": {},
     "output_type": "execute_result"
    }
   ],
   "source": [
    "values_trimmed.loc[values_trimmed['DP04_0089E'] == '680,000.0']"
   ]
  },
  {
   "cell_type": "markdown",
   "id": "cdcfbaca-d36f-4518-ad88-74a9fdd2a2e0",
   "metadata": {},
   "source": [
    "Now to try and plot this newly created variable:"
   ]
  },
  {
   "cell_type": "code",
   "execution_count": 79,
   "id": "32d07411-0f41-40ff-aa85-3e9eccbf5e8b",
   "metadata": {},
   "outputs": [
    {
     "data": {
      "text/plain": [
       "<AxesSubplot: >"
      ]
     },
     "execution_count": 79,
     "metadata": {},
     "output_type": "execute_result"
    },
    {
     "data": {
      "image/png": "[encoded data removed]",
      "text/plain": [
       "<Figure size 640x480 with 1 Axes>"
      ]
     },
     "metadata": {},
     "output_type": "display_data"
    }
   ],
   "source": [
    "values_trimmed.plot()"
   ]
  },
  {
   "cell_type": "markdown",
   "id": "f030fe5a-faa2-44b0-bdd4-6db931da73e8",
   "metadata": {},
   "source": [
    "I notice that it maps the values based on the GEOID but since the latitude and longitude are broken up in this data table, I'm not sure how to combine them into a format that can be plotted as map points?"
   ]
  }
 ],
 "metadata": {
  "kernelspec": {
   "display_name": "Python 3 (ipykernel)",
   "language": "python",
   "name": "python3"
  },
  "language_info": {
   "codemirror_mode": {
    "name": "ipython",
    "version": 3
   },
   "file_extension": ".py",
   "mimetype": "text/x-python",
   "name": "python",
   "nbconvert_exporter": "python",
   "pygments_lexer": "ipython3",
   "version": "3.10.8"
  }
 },
 "nbformat": 4,
 "nbformat_minor": 5
}
